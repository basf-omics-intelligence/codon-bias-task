{
 "cells": [
  {
   "cell_type": "markdown",
   "metadata": {
    "collapsed": true
   },
   "source": [
    "# Analysis of synonymous codon usage biases in *Arabidopsis thaliana*, in relation to gene expression"
   ]
  },
  {
   "cell_type": "markdown",
   "metadata": {},
   "source": [
    "## 1. Get and process data"
   ]
  },
  {
   "cell_type": "markdown",
   "metadata": {},
   "source": [
    "### 1.1 Download original datasets"
   ]
  },
  {
   "cell_type": "markdown",
   "metadata": {},
   "source": [
    "The data sources are:\n",
    "- for RnaSeq data: https://www.ebi.ac.uk/gxa/experiments-content/E-CURD-1/resources/ExperimentDownloadSupplier.RnaSeqBaseline/tpms.tsv\n",
    "- for CDS sequences: https://www.arabidopsis.org/download_files/Sequences/Araport11_blastsets/Araport11_genes.201606.cds.fasta.gz"
   ]
  },
  {
   "cell_type": "code",
   "execution_count": 1,
   "metadata": {
    "pycharm": {
     "is_executing": false
    }
   },
   "outputs": [],
   "source": [
    "import numpy as np\n",
    "import pandas as pd\n",
    "from tqdm import tqdm\n",
    "pd.set_option('display.max_columns', 1000)"
   ]
  },
  {
   "cell_type": "code",
   "execution_count": 2,
   "metadata": {
    "pycharm": {
     "is_executing": false
    }
   },
   "outputs": [
    {
     "name": "stderr",
     "text": [
      "C:\\Users\\VandB14\\AppData\\Local\\Continuum\\anaconda3\\lib\\site-packages\\Bio\\__init__.py:128: BiopythonWarning: You may be importing Biopython from inside the source tree. This is bad practice and might lead to downstream issues. In particular, you might encounter ImportErrors due to missing compiled C extensions. We recommend that you try running your code from outside the source tree. If you are outside the source tree then you have a setup.py file in an unexpected directory: C:\\Users\\VandB14\\AppData\\Local\\Continuum\\anaconda3\\lib\\site-packages.\n",
      "  format(_parent_dir), BiopythonWarning)\n"
     ],
     "output_type": "stream"
    }
   ],
   "source": [
    "from data_utils import download_expression_data, download_cds_data, load_expression_data, load_cds_data"
   ]
  },
  {
   "cell_type": "code",
   "execution_count": 3,
   "metadata": {
    "pycharm": {
     "is_executing": false
    }
   },
   "outputs": [
    {
     "name": "stdout",
     "text": [
      "Downloading from https://www.ebi.ac.uk/gxa/experiments-content/E-CURD-1/resources/ExperimentDownloadSupplier.RnaSeqBaseline/tpms.tsv\n",
      "data/raw/E-CURD-1-query-results.tpms.tsv\n",
      "Downloading from https://www.arabidopsis.org/download_files/Sequences/Araport11_blastsets/Araport11_genes.201606.cds.fasta.gz\n",
      "data/raw/Araport11_genes.201606.cds.fasta\n"
     ],
     "output_type": "stream"
    }
   ],
   "source": [
    "expr_fn = download_expression_data()\n",
    "cds_fn = download_cds_data()\n",
    "\n",
    "expr_data = load_expression_data(expr_fn)\n",
    "cds_data = load_cds_data(cds_fn)"
   ]
  },
  {
   "cell_type": "markdown",
   "metadata": {},
   "source": [
    "### 1.2 Preprocess the data"
   ]
  },
  {
   "cell_type": "markdown",
   "metadata": {},
   "source": [
    "- In the RnaSeq data we calculate for each gene the maximal TPM value across samples (tissues and developmental stages)\n",
    "- In the CDS data, when there are multiple transcripts per gene, we only keep the longest CDS sequence per gene.\n",
    "\n",
    "We merge the RnaSeq and CDS sequences in one data frame, joined by Gene ID"
   ]
  },
  {
   "cell_type": "code",
   "execution_count": 4,
   "metadata": {
    "pycharm": {
     "is_executing": false
    }
   },
   "outputs": [],
   "source": [
    "from data_utils import process_data"
   ]
  },
  {
   "cell_type": "code",
   "execution_count": 5,
   "metadata": {
    "pycharm": {
     "is_executing": false
    }
   },
   "outputs": [
    {
     "name": "stdout",
     "text": [
      "data/processed/cds_expr.txt\n",
      "         Gene ID Gene Name  Max TPM Transcript ID  Length  \\\n",
      "0      AT1G01010    NAC001     46.0   AT1G01010.1    1290   \n",
      "1      AT1G01020      ARV1     27.0   AT1G01020.1     738   \n",
      "2      AT1G01030      NGA3     12.0   AT1G01030.1    1077   \n",
      "3      AT1G01040      DCL1     25.0   AT1G01040.2    5733   \n",
      "4      AT1G01050      PPA1    172.0   AT1G01050.1     639   \n",
      "...          ...       ...      ...           ...     ...   \n",
      "26860  ATMG01350   ORF145C     31.0   ATMG01350.1     438   \n",
      "26861  ATMG01360      COX1    706.0   ATMG01360.1    1584   \n",
      "26862  ATMG01370   ORF111D     37.0   ATMG01370.1     336   \n",
      "26863  ATMG01400   ORF105B      8.0   ATMG01400.1     318   \n",
      "26864  ATMG01410    ORF204     12.0   ATMG01410.1     615   \n",
      "\n",
      "                                            CDS sequence  \n",
      "0      ATGGAGGATCAAGTTGGGTTTGGGTTCCGTCCGAACGACGAGGAGC...  \n",
      "1      ATGGCGGCGAGTGAACACAGATGCGTGGGATGTGGTTTTAGGGTAA...  \n",
      "2      ATGGATCTATCCCTGGCTCCGACAACAACAACAAGTTCCGACCAAG...  \n",
      "3      ATGGTAATGGAGGATGAGCCTAGAGAAGCCACAATAAAGCCTTCTT...  \n",
      "4      ATGAGTGAAGAAACTAAAGATAACCAGAGGCTGCAGCGACCAGCTC...  \n",
      "...                                                  ...  \n",
      "26860  ATGACAAAGCGTGAGTATAATTCTCAACCCGAGATGAAGGAGGAGG...  \n",
      "26861  ATGAAAAATCTGGTTCGATGGCTGTTCTCCACAAACCACAAGGATA...  \n",
      "26862  ATGAAAATTTCATATTTCATAAGAAGAGGAAAAAAAACATCGCGAC...  \n",
      "26863  ATGAAATACCATTTTAGCTCTATGGAGCCGTGGTGGAAAAGAGAAT...  \n",
      "26864  ATGTTTGGGGGGCGGAGAAGACGTCTCCCCCAAGATGGGACTTTTA...  \n",
      "\n",
      "[26865 rows x 6 columns]\n"
     ],
     "output_type": "stream"
    }
   ],
   "source": [
    "cds_expr = process_data(expr_data, cds_data)\n",
    "print(cds_expr)"
   ]
  },
  {
   "cell_type": "markdown",
   "metadata": {},
   "source": [
    "### 1.3 Translate and encode sequences"
   ]
  },
  {
   "cell_type": "markdown",
   "metadata": {},
   "source": [
    "For analysis of codon biases it may be useful to translate the CDS sequences into codon sequences and amino acid sequences, and also to one-hot encode them to allow vectorized operations with Numpy.\n",
    "\n",
    "To transform the list of sequences in numpy arrays, we need to zero pad the one-hot encoded sequences so that their length is equal to the maximal length of all sequences."
   ]
  },
  {
   "cell_type": "code",
   "execution_count": 6,
   "metadata": {
    "pycharm": {
     "is_executing": false
    }
   },
   "outputs": [
    {
     "name": "stderr",
     "text": [
      "100%|██████████| 26865/26865 [00:22<00:00, 1168.22it/s]\n",
      "100%|██████████| 26865/26865 [00:02<00:00, 9005.34it/s] \n",
      "100%|██████████| 26865/26865 [00:18<00:00, 1478.47it/s]\n",
      "100%|██████████| 26865/26865 [00:06<00:00, 4456.10it/s]\n",
      "100%|██████████| 26865/26865 [00:58<00:00, 460.86it/s]\n",
      "100%|██████████| 26865/26865 [00:09<00:00, 2882.28it/s]\n"
     ],
     "output_type": "stream"
    },
    {
     "name": "stdout",
     "text": [
      "\n",
      "1-hot encode to dna sequences:\n",
      "\n",
      "apply padding and make numpy array of 1-hot encoded dna sequences:\n",
      "\n",
      "1-hot encode to codon sequences:\n",
      "\n",
      "translate into 1-hot encoded amino acid sequences:\n",
      "\n",
      "apply padding and make numpy array of 1-hot encoded codon sequences:\n",
      "\n",
      "apply padding and make numpy array of 1-hot encoded amino acid sequences:\n"
     ],
     "output_type": "stream"
    }
   ],
   "source": [
    "from sequence_utils import __DNA_MAPPING__, __CODON_MAPPING__, __AMINO_ACID_MAPPING__, __CODON_DICT__, __TRL_MAT__\n",
    "from sequence_utils import one_hot_encode, translate_one_hot, padding_one_hot\n",
    "\n",
    "print('\\n1-hot encode to dna sequences:')\n",
    "cds_dna_1hot = [one_hot_encode(seq, __DNA_MAPPING__) for seq in tqdm(cds_expr['CDS sequence'])]\n",
    "\n",
    "print('\\napply padding and make numpy array of 1-hot encoded dna sequences:')\n",
    "cds_dna_1hot = padding_one_hot(cds_dna_1hot)\n",
    "\n",
    "print('\\n1-hot encode to codon sequences:')\n",
    "cds_cod_1hot = [one_hot_encode(seq, __CODON_MAPPING__) for seq in tqdm(cds_expr['CDS sequence'])]\n",
    "\n",
    "print('\\ntranslate into 1-hot encoded amino acid sequences:')\n",
    "cds_aa_1hot = [translate_one_hot(seq_1hot) for seq_1hot in tqdm(cds_cod_1hot)]\n",
    "\n",
    "print('\\napply padding and make numpy array of 1-hot encoded codon sequences:')\n",
    "cds_cod_1hot = padding_one_hot(cds_cod_1hot)\n",
    "\n",
    "print('\\napply padding and make numpy array of 1-hot encoded amino acid sequences:')\n",
    "cds_aa_1hot = padding_one_hot(cds_aa_1hot)"
   ]
  },
  {
   "cell_type": "code",
   "execution_count": 7,
   "outputs": [
    {
     "name": "stdout",
     "text": [
      "cds_dna_hot.shape: (26865, 16203, 4)\n",
      "cds_cod_hot.shape: (26865, 5401, 64)\n",
      "cds_aa_hot.shape: (26865, 5401, 21)\n"
     ],
     "output_type": "stream"
    }
   ],
   "source": [
    "print(f\"cds_dna_hot.shape: ({cds_dna_1hot.shape[0]}, {cds_dna_1hot.shape[1]}, {cds_dna_1hot.shape[2]})\")\n",
    "print(f\"cds_cod_hot.shape: ({cds_cod_1hot.shape[0]}, {cds_cod_1hot.shape[1]}, {cds_cod_1hot.shape[2]})\")\n",
    "print(f\"cds_aa_hot.shape: ({cds_aa_1hot.shape[0]}, {cds_aa_1hot.shape[1]}, {cds_aa_1hot.shape[2]})\")"
   ],
   "metadata": {
    "collapsed": false,
    "pycharm": {
     "name": "#%%\n",
     "is_executing": false
    }
   }
  },
  {
   "cell_type": "markdown",
   "source": [
    "## 2. Definitions"
   ],
   "metadata": {
    "collapsed": false
   }
  },
  {
   "cell_type": "markdown",
   "source": [
    "Some of the following definitions may be useful for your analysis. It is not necessary to use all of these in your analysis, and you may also use other measures. Use them where you see value for interpreting the relationship between biases in synonymous codon usage and expression levels."
   ],
   "metadata": {
    "collapsed": false
   }
  },
  {
   "cell_type": "markdown",
   "source": [
    "- $x_{ij}$: **number of occurences** of the $j$-th codon for the $i$-th amino acid\n",
    "- $n_i$: **number of alternative codons** for the $i$-th amino acid\n",
    "- $\\sum_{j=1}^{n_i}x_{ij}$: **number of amino acid occurences** for the $i$-th amino acid (repeated for corresponding $j$-th codons)\n",
    "- $\\frac{1}{n_i}\\sum_{j=1}^{n_i}x_{ij}$: the $j$-th **expected codon frequency** under the assumption of equal usage of the synonymous codons for an $i$-th amino acid\n",
    "- $\\text{RSCU}_{ij}$: **relative synonymous codon usage**, the observed frequency for a codon divided by the frequency expected under the assumption of equal usage of the synonymous codons for an amino acid\n",
    "\n",
    "\\begin{equation}\n",
    "\\text{RSCU}_{ij} = \\frac{x_{ij}}{\\frac{1}{n_i}\\sum_{j=1}^{n_i}x_{ij}}\n",
    "\\end{equation}\n",
    "- $\\text{RSCU}_{i_\\text{max}}$: **RSCU for the most frequently used codon** for the $i$-th amino acid\n",
    "- $\\text{x}_{i_\\text{max}}$: **codon frequency for the most frequently used codon** for the $i$-th amino acid\n",
    "- $w_{ij}$: **relative adaptiveness** of the $j$-th codon for the $i$-th amino acid\n",
    "\n",
    "\\begin{equation}\n",
    "w_{ij} = \\frac{\\text{RSCU}_{ij}}{\\text{RSCU}_{i_\\text{max}}} = \\frac{x_{ij}}{x_{i_{\\text{max}}}}\n",
    "\\end{equation}\n",
    "- $L$: **length of a gene** in number of codons\n",
    "- $\\text{CAI}$: **codon adaptation index (CAI)** for a CDS is the geometric mean of the RSCU values corresponding to each of the codons used in that CDS, divided by the maximum possible CAI for a CDS of the same amino acid composition\n",
    "\n",
    "\\begin{equation}\n",
    "\\text{CAI}=\\frac{\\text{CAI}_\\text{obs}}{\\text{CAI}_\\text{max}} = \\frac{\\left(\\prod_{k=1}^L \\text{RSCU}_k\\right)^\\frac{1}{L}}{\\left(\\prod_{k=1}^L \\text{RSCU}_{k_\\text{max}}\\right)^\\frac{1}{L}}=\\left(\\prod_{k=1}^L w_k\\right)^{\\frac{1}{L}}\n",
    "\\end{equation}\n"
   ],
   "metadata": {
    "collapsed": false
   }
  },
  {
   "cell_type": "markdown",
   "source": [
    "## 3. Start of analysis"
   ],
   "metadata": {
    "collapsed": false
   }
  },
  {
   "cell_type": "markdown",
   "source": [
    "- Add markdown text to explain your analysis steps\n",
    "- Use graphs and/or tables\n",
    "- Posit biological interpretations or hypotheses"
   ],
   "metadata": {
    "collapsed": false
   }
  },
  {
   "cell_type": "code",
   "execution_count": 7,
   "outputs": [],
   "source": [],
   "metadata": {
    "collapsed": false,
    "pycharm": {
     "name": "#%%\n",
     "is_executing": false
    }
   }
  },
  {
   "cell_type": "code",
   "execution_count": null,
   "outputs": [],
   "source": [],
   "metadata": {
    "collapsed": false,
    "pycharm": {
     "name": "#%%\n"
    }
   }
  },
  {
   "cell_type": "markdown",
   "source": [
    "## 2. Definitions"
   ],
   "metadata": {
    "collapsed": false
   }
  },
  {
   "cell_type": "markdown",
   "source": [
    "Some of the following definitions may be useful for your analysis. It is not necessary to use all of these in your analysis, and you may also use other measures. Use them where you see value for interpreting the relationship between biases in synonymous codon usage and expression levels."
   ],
   "metadata": {
    "collapsed": false
   }
  },
  {
   "cell_type": "markdown",
   "source": [
    "- $x_{ij}$: **number of occurences** of the $j$-th codon for the $i$-th amino acid\n",
    "- $n_i$: **number of alternative codons** for the $i$-th amino acid\n",
    "- $\\sum_{j=1}^{n_i}x_{ij}$: **number of amino acid occurences** for the $i$-th amino acid (repeated for corresponding $j$-th codons)\n",
    "- $\\frac{1}{n_i}\\sum_{j=1}^{n_i}x_{ij}$: the $j$-th **expected codon frequency** under the assumption of equal usage of the synonymous codons for an $i$-th amino acid\n",
    "- $\\text{RSCU}_{ij}$: **relative synonymous codon usage**, the observed frequency for a codon divided by the frequency expected under the assumption of equal usage of the synonymous codons for an amino acid\n",
    "\n",
    "\\begin{equation}\n",
    "\\text{RSCU}_{ij} = \\frac{x_{ij}}{\\frac{1}{n_i}\\sum_{j=1}^{n_i}x_{ij}}\n",
    "\\end{equation}\n",
    "- $\\text{RSCU}_{i_\\text{max}}$: **RSCU for the most frequently used codon** for the $i$-th amino acid\n",
    "- $\\text{x}_{i_\\text{max}}$: **codon frequency for the most frequently used codon** for the $i$-th amino acid\n",
    "- $w_{ij}$: **relative adaptiveness** of the $j$-th codon for the $i$-th amino acid\n",
    "\n",
    "\\begin{equation}\n",
    "w_{ij} = \\frac{\\text{RSCU}_{ij}}{\\text{RSCU}_{i_\\text{max}}} = \\frac{x_{ij}}{x_{i_{\\text{max}}}}\n",
    "\\end{equation}\n",
    "- $L$: **length of a gene** in number of codons\n",
    "- $\\text{CAI}$: **codon adaptation index (CAI)** for a CDS is the geometric mean of the RSCU values corresponding to each of the codons used in that CDS, divided by the maximum possible CAI for a CDS of the same amino acid composition\n",
    "\n",
    "\\begin{equation}\n",
    "\\text{CAI}=\\frac{\\text{CAI}_\\text{obs}}{\\text{CAI}_\\text{max}} = \\frac{\\left(\\prod_{k=1}^L \\text{RSCU}_k\\right)^\\frac{1}{L}}{\\left(\\prod_{k=1}^L \\text{RSCU}_{k_\\text{max}}\\right)^\\frac{1}{L}}=\\left(\\prod_{k=1}^L w_k\\right)^{\\frac{1}{L}}\n",
    "\\end{equation}\n"
   ],
   "metadata": {
    "collapsed": false
   }
  },
  {
   "cell_type": "markdown",
   "source": [
    "## 3. Start of analysis"
   ],
   "metadata": {
    "collapsed": false
   }
  },
  {
   "cell_type": "markdown",
   "source": [
    "- Add markdown text to explain your analysis steps\n",
    "- Use graphs and/or tables\n",
    "- Posit biological interpretations or hypotheses"
   ],
   "metadata": {
    "collapsed": false
   }
  },
  {
   "cell_type": "code",
   "execution_count": null,
   "outputs": [],
   "source": [],
   "metadata": {
    "collapsed": false,
    "pycharm": {
     "name": "#%%\n"
    }
   }
  },
  {
   "cell_type": "code",
   "execution_count": null,
   "outputs": [],
   "source": [],
   "metadata": {
    "collapsed": false,
    "pycharm": {
     "name": "#%%\n"
    }
   }
  },
  {
   "cell_type": "markdown",
   "source": [
    "## 2. Definitions"
   ],
   "metadata": {
    "collapsed": false
   }
  },
  {
   "cell_type": "markdown",
   "source": [
    "Some of the following definitions may be useful for your analysis. It is not necessary to use all of these in your analysis, and you may also use other measures. Use them where you see value for interpreting the relationship between biases in synonymous codon usage and expression levels."
   ],
   "metadata": {
    "collapsed": false
   }
  },
  {
   "cell_type": "markdown",
   "source": [
    "- $x_{ij}$: **number of occurences** of the $j$-th codon for the $i$-th amino acid\n",
    "- $n_i$: **number of alternative codons** for the $i$-th amino acid\n",
    "- $\\sum_{j=1}^{n_i}x_{ij}$: **number of amino acid occurences** for the $i$-th amino acid (repeated for corresponding $j$-th codons)\n",
    "- $\\frac{1}{n_i}\\sum_{j=1}^{n_i}x_{ij}$: the $j$-th **expected codon frequency** under the assumption of equal usage of the synonymous codons for an $i$-th amino acid\n",
    "- $\\text{RSCU}_{ij}$: **relative synonymous codon usage**, the observed frequency for a codon divided by the frequency expected under the assumption of equal usage of the synonymous codons for an amino acid\n",
    "\n",
    "\\begin{equation}\n",
    "\\text{RSCU}_{ij} = \\frac{x_{ij}}{\\frac{1}{n_i}\\sum_{j=1}^{n_i}x_{ij}}\n",
    "\\end{equation}\n",
    "- $\\text{RSCU}_{i_\\text{max}}$: **RSCU for the most frequently used codon** for the $i$-th amino acid\n",
    "- $\\text{x}_{i_\\text{max}}$: **codon frequency for the most frequently used codon** for the $i$-th amino acid\n",
    "- $w_{ij}$: **relative adaptiveness** of the $j$-th codon for the $i$-th amino acid\n",
    "\n",
    "\\begin{equation}\n",
    "w_{ij} = \\frac{\\text{RSCU}_{ij}}{\\text{RSCU}_{i_\\text{max}}} = \\frac{x_{ij}}{x_{i_{\\text{max}}}}\n",
    "\\end{equation}\n",
    "- $L$: **length of a gene** in number of codons\n",
    "- $\\text{CAI}$: **codon adaptation index (CAI)** for a CDS is the geometric mean of the RSCU values corresponding to each of the codons used in that CDS, divided by the maximum possible CAI for a CDS of the same amino acid composition\n",
    "\n",
    "\\begin{equation}\n",
    "\\text{CAI}=\\frac{\\text{CAI}_\\text{obs}}{\\text{CAI}_\\text{max}} = \\frac{\\left(\\prod_{k=1}^L \\text{RSCU}_k\\right)^\\frac{1}{L}}{\\left(\\prod_{k=1}^L \\text{RSCU}_{k_\\text{max}}\\right)^\\frac{1}{L}}=\\left(\\prod_{k=1}^L w_k\\right)^{\\frac{1}{L}}\n",
    "\\end{equation}\n"
   ],
   "metadata": {
    "collapsed": false
   }
  },
  {
   "cell_type": "markdown",
   "source": [
    "## 3. Start of analysis"
   ],
   "metadata": {
    "collapsed": false
   }
  },
  {
   "cell_type": "markdown",
   "source": [
    "- Add markdown text to explain your analysis steps\n",
    "- Use graphs and/or tables\n",
    "- Posit biological interpretations or hypotheses"
   ],
   "metadata": {
    "collapsed": false
   }
  },
  {
   "cell_type": "code",
   "execution_count": null,
   "outputs": [],
   "source": [],
   "metadata": {
    "collapsed": false,
    "pycharm": {
     "name": "#%%\n"
    }
   }
  },
  {
   "cell_type": "code",
   "execution_count": 14,
   "metadata": {
    "scrolled": false
   },
   "outputs": [
    {
     "name": "stdout",
     "output_type": "stream",
     "text": [
      "cds_dna_hot.shape: (26865, 16203, 4)\n",
      "cds_cod_hot.shape: (26865, 5401, 64)\n",
      "cds_aa_hot.shape: (26865, 5401, 21)\n"
     ]
    }
   ],
   "source": []
  },
  {
   "cell_type": "markdown",
   "metadata": {},
   "source": [
    "## 2. Definitions"
   ]
  },
  {
   "cell_type": "markdown",
   "metadata": {},
   "source": [
    "Some of the following definitions may be useful for your analysis. It is not necessary to use all of these in your analysis, and you may also use other measures. Use them where you see value for interpreting the relationship between biases in synonymous codon usage and expression levels."
   ]
  },
  {
   "cell_type": "markdown",
   "metadata": {},
   "source": [
    "- $x_{ij}$: **number of occurences** of the $j$-th codon for the $i$-th amino acid\n",
    "- $n_i$: **number of alternative codons** for the $i$-th amino acid\n",
    "- $\\sum_{j=1}^{n_i}x_{ij}$: **number of amino acid occurences** for the $i$-th amino acid (repeated for corresponding $j$-th codons)\n",
    "- $\\frac{1}{n_i}\\sum_{j=1}^{n_i}x_{ij}$: the $j$-th **expected codon frequency** under the assumption of equal usage of the synonymous codons for an $i$-th amino acid\n",
    "- $\\text{RSCU}_{ij}$: **relative synonymous codon usage**, the observed frequency for a codon divided by the frequency expected under the assumption of equal usage of the synonymous codons for an amino acid\n",
    "\n",
    "\\begin{equation}\n",
    "\\text{RSCU}_{ij} = \\frac{x_{ij}}{\\frac{1}{n_i}\\sum_{j=1}^{n_i}x_{ij}}\n",
    "\\end{equation}\n",
    "- $\\text{RSCU}_{i_\\text{max}}$: **RSCU for the most frequently used codon** for the $i$-th amino acid\n",
    "- $\\text{x}_{i_\\text{max}}$: **codon frequency for the most frequently used codon** for the $i$-th amino acid\n",
    "- $w_{ij}$: **relative adaptiveness** of the $j$-th codon for the $i$-th amino acid\n",
    "\n",
    "\\begin{equation}\n",
    "w_{ij} = \\frac{\\text{RSCU}_{ij}}{\\text{RSCU}_{i_\\text{max}}} = \\frac{x_{ij}}{x_{i_{\\text{max}}}}\n",
    "\\end{equation}\n",
    "- $L$: **length of a gene** in number of codons\n",
    "- $\\text{CAI}$: **codon adaptation index (CAI)** for a CDS is the geometric mean of the RSCU values corresponding to each of the codons used in that CDS, divided by the maximum possible CAI for a CDS of the same amino acid composition\n",
    "\n",
    "\\begin{equation}\n",
    "\\text{CAI}=\\frac{\\text{CAI}_\\text{obs}}{\\text{CAI}_\\text{max}} = \\frac{\\left(\\prod_{k=1}^L \\text{RSCU}_k\\right)^\\frac{1}{L}}{\\left(\\prod_{k=1}^L \\text{RSCU}_{k_\\text{max}}\\right)^\\frac{1}{L}}=\\left(\\prod_{k=1}^L w_k\\right)^{\\frac{1}{L}}\n",
    "\\end{equation}\n"
   ]
  },
  {
   "cell_type": "markdown",
   "metadata": {},
   "source": [
    "## 3. Start of analysis"
   ]
  },
  {
   "cell_type": "markdown",
   "metadata": {},
   "source": [
    "- Add markdown text to explain your analysis steps\n",
    "- Use graphs and/or tables\n",
    "- Posit biological interpretations or hypotheses"
   ]
  },
  {
   "cell_type": "code",
   "execution_count": null,
   "metadata": {},
   "outputs": [],
   "source": []
  }
 ],
 "metadata": {
  "kernelspec": {
   "display_name": "Python 3",
   "language": "python",
   "name": "python3"
  },
  "language_info": {
   "codemirror_mode": {
    "name": "ipython",
    "version": 3
   },
   "file_extension": ".py",
   "mimetype": "text/x-python",
   "name": "python",
   "nbconvert_exporter": "python",
   "pygments_lexer": "ipython3",
   "version": "3.7.3"
  },
  "pycharm": {
   "stem_cell": {
    "cell_type": "raw",
    "source": [],
    "metadata": {
     "collapsed": false
    }
   }
  }
 },
 "nbformat": 4,
 "nbformat_minor": 1
}